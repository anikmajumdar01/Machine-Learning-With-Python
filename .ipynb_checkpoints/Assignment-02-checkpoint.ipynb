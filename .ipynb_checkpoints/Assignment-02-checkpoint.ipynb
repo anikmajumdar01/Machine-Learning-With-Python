{
 "cells": [
  {
   "cell_type": "markdown",
   "id": "3868a1f7",
   "metadata": {},
   "source": [
    "# 1. Write a program that swaps the values of two variables."
   ]
  },
  {
   "cell_type": "code",
   "execution_count": 1,
   "id": "49767272",
   "metadata": {},
   "outputs": [
    {
     "name": "stdout",
     "output_type": "stream",
     "text": [
      "Enter the value of a:15\n"
     ]
    }
   ],
   "source": [
    "a=int(input(\"Enter the value of a:\"))"
   ]
  },
  {
   "cell_type": "code",
   "execution_count": 2,
   "id": "86352e7f",
   "metadata": {},
   "outputs": [
    {
     "name": "stdout",
     "output_type": "stream",
     "text": [
      "Enter the value of b:23\n"
     ]
    }
   ],
   "source": [
    "b=int(input(\"Enter the value of b:\"))"
   ]
  },
  {
   "cell_type": "code",
   "execution_count": 3,
   "id": "cf6fc35a",
   "metadata": {},
   "outputs": [],
   "source": [
    "c=a\n",
    "a=b\n",
    "b=c"
   ]
  },
  {
   "cell_type": "code",
   "execution_count": 4,
   "id": "ce4ce379",
   "metadata": {},
   "outputs": [
    {
     "name": "stdout",
     "output_type": "stream",
     "text": [
      "a:  23  b:  15\n"
     ]
    }
   ],
   "source": [
    "print(\"a: \",a,\" b: \",b)"
   ]
  },
  {
   "cell_type": "markdown",
   "id": "5a1a8db5",
   "metadata": {},
   "source": [
    "# 2. Write a program that calculates the area of a rectangle given its length and width."
   ]
  },
  {
   "cell_type": "code",
   "execution_count": 5,
   "id": "afe7f8e7",
   "metadata": {},
   "outputs": [
    {
     "name": "stdout",
     "output_type": "stream",
     "text": [
      "Enter the value of length: 23\n"
     ]
    }
   ],
   "source": [
    "length=float(input(\"Enter the value of length: \"))"
   ]
  },
  {
   "cell_type": "code",
   "execution_count": 6,
   "id": "653725ff",
   "metadata": {},
   "outputs": [
    {
     "name": "stdout",
     "output_type": "stream",
     "text": [
      "Enter the value of width: 12\n"
     ]
    }
   ],
   "source": [
    "width=float(input(\"Enter the value of width: \"))"
   ]
  },
  {
   "cell_type": "code",
   "execution_count": 7,
   "id": "7f407b3a",
   "metadata": {},
   "outputs": [],
   "source": [
    "area=length*width"
   ]
  },
  {
   "cell_type": "code",
   "execution_count": 8,
   "id": "470d0704",
   "metadata": {},
   "outputs": [
    {
     "name": "stdout",
     "output_type": "stream",
     "text": [
      "Area of a rectangle:  276.0\n"
     ]
    }
   ],
   "source": [
    "print(\"Area of a rectangle: \",area)"
   ]
  },
  {
   "cell_type": "markdown",
   "id": "f6d71539",
   "metadata": {},
   "source": [
    "# 3. Write a program that converts temperature from Fahrenheit to Celsius."
   ]
  },
  {
   "cell_type": "code",
   "execution_count": 9,
   "id": "e7a1e21d",
   "metadata": {},
   "outputs": [
    {
     "name": "stdout",
     "output_type": "stream",
     "text": [
      "Enter the value of Fahrenheit scale: 21.58\n"
     ]
    }
   ],
   "source": [
    "F=float(input(\"Enter the value of Fahrenheit scale: \"))"
   ]
  },
  {
   "cell_type": "code",
   "execution_count": 10,
   "id": "1caebd95",
   "metadata": {},
   "outputs": [
    {
     "data": {
      "text/plain": [
       "21.58"
      ]
     },
     "execution_count": 10,
     "metadata": {},
     "output_type": "execute_result"
    }
   ],
   "source": [
    "F"
   ]
  },
  {
   "cell_type": "code",
   "execution_count": 11,
   "id": "a1914206",
   "metadata": {},
   "outputs": [],
   "source": [
    "Celsius=(5*(F-32))/9"
   ]
  },
  {
   "cell_type": "code",
   "execution_count": 12,
   "id": "ceba4225",
   "metadata": {},
   "outputs": [
    {
     "name": "stdout",
     "output_type": "stream",
     "text": [
      "Temperature from Fahrenheit to Celsius:  -5.78888888888889\n"
     ]
    }
   ],
   "source": [
    "print(\"Temperature from Fahrenheit to Celsius: \",Celsius)"
   ]
  },
  {
   "cell_type": "markdown",
   "id": "a80bc503",
   "metadata": {},
   "source": [
    "# 4. Write a program that calculates the volume of a sphere given its radius."
   ]
  },
  {
   "cell_type": "code",
   "execution_count": 13,
   "id": "86a61b10",
   "metadata": {},
   "outputs": [],
   "source": [
    "import math"
   ]
  },
  {
   "cell_type": "code",
   "execution_count": 14,
   "id": "db451f7c",
   "metadata": {},
   "outputs": [],
   "source": [
    "PI=math.pi"
   ]
  },
  {
   "cell_type": "code",
   "execution_count": 15,
   "id": "1c754418",
   "metadata": {},
   "outputs": [
    {
     "data": {
      "text/plain": [
       "3.141592653589793"
      ]
     },
     "execution_count": 15,
     "metadata": {},
     "output_type": "execute_result"
    }
   ],
   "source": [
    "PI"
   ]
  },
  {
   "cell_type": "code",
   "execution_count": 16,
   "id": "0cfadbb3",
   "metadata": {},
   "outputs": [
    {
     "name": "stdout",
     "output_type": "stream",
     "text": [
      "Enter the value of radius: 8.9\n"
     ]
    }
   ],
   "source": [
    "r=float(input(\"Enter the value of radius: \"))"
   ]
  },
  {
   "cell_type": "code",
   "execution_count": 17,
   "id": "0513846c",
   "metadata": {},
   "outputs": [],
   "source": [
    "volume=(4/3)*PI*r**3"
   ]
  },
  {
   "cell_type": "code",
   "execution_count": 18,
   "id": "c0c2ded4",
   "metadata": {},
   "outputs": [
    {
     "name": "stdout",
     "output_type": "stream",
     "text": [
      "Volume of a sphere:  2952.967241878057\n"
     ]
    }
   ],
   "source": [
    "print(\"Volume of a sphere: \",volume)"
   ]
  },
  {
   "cell_type": "markdown",
   "id": "5c258d6f",
   "metadata": {},
   "source": [
    "# 5. Write a program that finds the average of three numbers."
   ]
  },
  {
   "cell_type": "code",
   "execution_count": 19,
   "id": "99a296e4",
   "metadata": {},
   "outputs": [
    {
     "name": "stdout",
     "output_type": "stream",
     "text": [
      "Enter num1:21\n",
      "Enter num2:56\n",
      "Enter num3:24\n"
     ]
    }
   ],
   "source": [
    "num1=float(input(\"Enter num1:\"))\n",
    "num2=float(input(\"Enter num2:\"))\n",
    "num3=float(input(\"Enter num3:\"))"
   ]
  },
  {
   "cell_type": "code",
   "execution_count": 20,
   "id": "4c08fb7d",
   "metadata": {},
   "outputs": [],
   "source": [
    "avg=((num1+num2+num3)/3)"
   ]
  },
  {
   "cell_type": "code",
   "execution_count": 21,
   "id": "7be92f6a",
   "metadata": {},
   "outputs": [
    {
     "name": "stdout",
     "output_type": "stream",
     "text": [
      "Avg. of three numbers:  33.666666666666664\n"
     ]
    }
   ],
   "source": [
    "print(\"Avg. of three numbers: \",avg)"
   ]
  },
  {
   "cell_type": "markdown",
   "id": "9873e0aa",
   "metadata": {},
   "source": [
    "# 6. Write a program that determines if a number is even or odd."
   ]
  },
  {
   "cell_type": "code",
   "execution_count": 22,
   "id": "2a2483f4",
   "metadata": {},
   "outputs": [
    {
     "name": "stdout",
     "output_type": "stream",
     "text": [
      "Enter number: 15\n"
     ]
    }
   ],
   "source": [
    "number=int(input(\"Enter number: \"))"
   ]
  },
  {
   "cell_type": "code",
   "execution_count": 23,
   "id": "6bee1e7a",
   "metadata": {},
   "outputs": [
    {
     "name": "stdout",
     "output_type": "stream",
     "text": [
      "15 Odd\n"
     ]
    }
   ],
   "source": [
    "if((number%2)==0):\n",
    "    print(number,\"Even\")\n",
    "else:\n",
    "    print(number,\"Odd\")"
   ]
  },
  {
   "cell_type": "markdown",
   "id": "8a2dd401",
   "metadata": {},
   "source": [
    "# 7. Write a program that finds the maximum of three numbers."
   ]
  },
  {
   "cell_type": "code",
   "execution_count": 24,
   "id": "000d268e",
   "metadata": {},
   "outputs": [
    {
     "name": "stdout",
     "output_type": "stream",
     "text": [
      "Enter num_1: 12\n",
      "Enter num_2: 25\n",
      "Enter num_3: 11\n"
     ]
    }
   ],
   "source": [
    "num_1=float(input(\"Enter num_1: \"))\n",
    "num_2=float(input(\"Enter num_2: \"))\n",
    "num_3=float(input(\"Enter num_3: \"))"
   ]
  },
  {
   "cell_type": "code",
   "execution_count": 25,
   "id": "e5bb91c0",
   "metadata": {},
   "outputs": [
    {
     "name": "stdout",
     "output_type": "stream",
     "text": [
      "25.0  is the largest number among  12.0 25.0 11.0\n"
     ]
    }
   ],
   "source": [
    "max=num_1\n",
    "if(max<num_2):\n",
    "    max=num_2\n",
    "elif(max<num_3):\n",
    "    max=num_3\n",
    "print(max,\" is the largest number among \",num_1,num_2,num_3)"
   ]
  },
  {
   "cell_type": "markdown",
   "id": "efedb927",
   "metadata": {},
   "source": [
    "# 8. Write a program that determines if a year is a leap year or not."
   ]
  },
  {
   "cell_type": "code",
   "execution_count": 26,
   "id": "b816fc50",
   "metadata": {},
   "outputs": [
    {
     "name": "stdout",
     "output_type": "stream",
     "text": [
      "Enter year: 1996\n"
     ]
    }
   ],
   "source": [
    "year=int(input(\"Enter year: \"))"
   ]
  },
  {
   "cell_type": "code",
   "execution_count": 27,
   "id": "70ffb460",
   "metadata": {},
   "outputs": [
    {
     "name": "stdout",
     "output_type": "stream",
     "text": [
      "1996  is leap year.\n"
     ]
    }
   ],
   "source": [
    "if((year%4)==0):\n",
    "    print(year,\" is leap year.\")\n",
    "else:\n",
    "    print(year,\" isn't leap year.\")"
   ]
  },
  {
   "cell_type": "markdown",
   "id": "9423f634",
   "metadata": {},
   "source": [
    "# 9. Write a program that determines if a number is positive, negative, or zero."
   ]
  },
  {
   "cell_type": "code",
   "execution_count": 28,
   "id": "b27778f8",
   "metadata": {},
   "outputs": [
    {
     "name": "stdout",
     "output_type": "stream",
     "text": [
      "Enter number: -21\n"
     ]
    }
   ],
   "source": [
    "number=float(input(\"Enter number: \"))"
   ]
  },
  {
   "cell_type": "code",
   "execution_count": 29,
   "id": "27a84109",
   "metadata": {},
   "outputs": [
    {
     "name": "stdout",
     "output_type": "stream",
     "text": [
      "-21.0  is negative.\n"
     ]
    }
   ],
   "source": [
    "if(number>0):\n",
    "    print(number,\" is positive.\")\n",
    "elif(number<0):\n",
    "    print(number,\" is negative.\")\n",
    "else:\n",
    "    print(number,\" is zero.\")"
   ]
  },
  {
   "cell_type": "markdown",
   "id": "3ededab3",
   "metadata": {},
   "source": [
    "# 10. Write a program that calculates the grade based on a given percentage."
   ]
  },
  {
   "cell_type": "code",
   "execution_count": 31,
   "id": "25417a3f",
   "metadata": {},
   "outputs": [
    {
     "name": "stdout",
     "output_type": "stream",
     "text": [
      "Enter subject marks: \n",
      "Bengali: 92\n",
      "English: 95\n",
      "Math: 98\n",
      "Physics: 91\n",
      "Chemistry: 89\n",
      "Biology: 82\n",
      "ICT: 88\n"
     ]
    }
   ],
   "source": [
    "print(\"Enter subject marks: \")\n",
    "Bengali=float(input(\"Bengali: \"))\n",
    "English=float(input(\"English: \"))\n",
    "Math=float(input(\"Math: \"))\n",
    "Physics=float(input(\"Physics: \"))\n",
    "Chemistry=float(input(\"Chemistry: \"))\n",
    "Biology=float(input(\"Biology: \"))\n",
    "ICT=float(input(\"ICT: \"))"
   ]
  },
  {
   "cell_type": "code",
   "execution_count": 32,
   "id": "0e5b074d",
   "metadata": {},
   "outputs": [],
   "source": [
    "avg=(Bengali+English+Math+Physics+Chemistry+Biology+ICT)/7"
   ]
  },
  {
   "cell_type": "code",
   "execution_count": 33,
   "id": "ac80c08d",
   "metadata": {},
   "outputs": [
    {
     "name": "stdout",
     "output_type": "stream",
     "text": [
      "Percentage:  90.71428571428571  Grade: A-\n"
     ]
    }
   ],
   "source": [
    "if(avg>=93):\n",
    "    print(\"Percentage: \",avg,\" Grade: A\")\n",
    "elif(avg>=90):\n",
    "    print(\"Percentage: \",avg,\" Grade: A-\")\n",
    "elif(avg>=87):\n",
    "    print(\"Percentage: \",avg,\" Grade: B+\")\n",
    "elif(avg>=85):\n",
    "    print(\"Percentage: \",avg,\" Grade: B\")\n",
    "elif(avg>=83):\n",
    "    print(\"Percentage: \",avg,\" Grade: B-\")\n",
    "elif(avg>=80):\n",
    "    print(\"Percentage: \",avg,\" Grade: C+\")\n",
    "elif(avg>=77):\n",
    "    print(\"Percentage: \",avg,\" Grade: C\")\n",
    "elif(avg>=75):\n",
    "    print(\"Percentage: \",avg,\" Grade: C-\")\n",
    "elif(avg>=70):\n",
    "    print(\"Percentage: \",avg,\" Grade: D+\")\n",
    "elif(avg>=65):\n",
    "    print(\"Percentage: \",avg,\" Grade: D\")\n",
    "else:\n",
    "    print(\"Percentage: \",avg,\"Grade: F\")"
   ]
  },
  {
   "cell_type": "markdown",
   "id": "c3b615df",
   "metadata": {},
   "source": [
    "# 11. Write a program that prints the first `'n'` natural numbers."
   ]
  },
  {
   "cell_type": "code",
   "execution_count": 34,
   "id": "375698f0",
   "metadata": {},
   "outputs": [
    {
     "name": "stdout",
     "output_type": "stream",
     "text": [
      "Enter the value of n: 10\n"
     ]
    }
   ],
   "source": [
    "natural_number=int(input(\"Enter the value of n: \"))"
   ]
  },
  {
   "cell_type": "code",
   "execution_count": 35,
   "id": "407824c4",
   "metadata": {},
   "outputs": [
    {
     "name": "stdout",
     "output_type": "stream",
     "text": [
      "1\n",
      "2\n",
      "3\n",
      "4\n",
      "5\n",
      "6\n",
      "7\n",
      "8\n",
      "9\n",
      "10\n"
     ]
    }
   ],
   "source": [
    "for i in range(natural_number):\n",
    "    print(i+1)### Natural number start from 1 and I want to continue it upto n=10. That why I have done the operation (i+1)"
   ]
  },
  {
   "cell_type": "markdown",
   "id": "696605fb",
   "metadata": {},
   "source": [
    "# 12. Write a program that calculates the factorial of a number."
   ]
  },
  {
   "cell_type": "code",
   "execution_count": 36,
   "id": "0902dc86",
   "metadata": {},
   "outputs": [
    {
     "name": "stdout",
     "output_type": "stream",
     "text": [
      "Enter the number: 6\n"
     ]
    }
   ],
   "source": [
    "fac_num=int(input(\"Enter the number: \"))"
   ]
  },
  {
   "cell_type": "code",
   "execution_count": 37,
   "id": "6a2b829b",
   "metadata": {},
   "outputs": [
    {
     "name": "stdout",
     "output_type": "stream",
     "text": [
      "Factorial of 6  is:  720\n"
     ]
    }
   ],
   "source": [
    "n=fac_num\n",
    "factorial=1\n",
    "while(n>0):\n",
    "    factorial=factorial*n\n",
    "    n=n-1\n",
    "print(\"Factorial of\",fac_num,\" is: \",factorial)\n",
    "    \n",
    "    "
   ]
  },
  {
   "cell_type": "markdown",
   "id": "ed079a50",
   "metadata": {},
   "source": [
    "# 13. Write a program that generates a Fibonacci sequence of length `n`."
   ]
  },
  {
   "cell_type": "code",
   "execution_count": 38,
   "id": "929a64db",
   "metadata": {},
   "outputs": [
    {
     "name": "stdout",
     "output_type": "stream",
     "text": [
      "Enter n: 6\n"
     ]
    }
   ],
   "source": [
    "n=int(input(\"Enter n: \"))"
   ]
  },
  {
   "cell_type": "code",
   "execution_count": 39,
   "id": "9adf330a",
   "metadata": {},
   "outputs": [
    {
     "name": "stdout",
     "output_type": "stream",
     "text": [
      "0 1 1 2 3 5 "
     ]
    }
   ],
   "source": [
    "p=0\n",
    "q=1\n",
    "for i in range(n):\n",
    "    print(p,end=\" \")\n",
    "    r=p+q\n",
    "    p=q\n",
    "    q=r"
   ]
  },
  {
   "cell_type": "markdown",
   "id": "0efce074",
   "metadata": {},
   "source": [
    "# 14. Write a program that checks if a given number is prime or not."
   ]
  },
  {
   "cell_type": "code",
   "execution_count": 40,
   "id": "61ae788c",
   "metadata": {},
   "outputs": [
    {
     "name": "stdout",
     "output_type": "stream",
     "text": [
      "Enter a number: 6\n"
     ]
    }
   ],
   "source": [
    "number=int(input(\"Enter a number: \"))"
   ]
  },
  {
   "cell_type": "code",
   "execution_count": 41,
   "id": "5330980f",
   "metadata": {},
   "outputs": [
    {
     "name": "stdout",
     "output_type": "stream",
     "text": [
      "It's not a prime number.\n"
     ]
    }
   ],
   "source": [
    "if(number>1):\n",
    "    for i in range(2,number):\n",
    "        if((number%i)==0):\n",
    "            print(\"It's not a prime number.\")\n",
    "            break\n",
    "    else:\n",
    "        print(\"It's a prime number.\")\n",
    "    \n",
    "else:\n",
    "    print(\"It's not a prime number.\")"
   ]
  },
  {
   "cell_type": "markdown",
   "id": "6d0d7470",
   "metadata": {},
   "source": [
    "# 15. Write a program that prints the multiplication table of a given number."
   ]
  },
  {
   "cell_type": "code",
   "execution_count": 42,
   "id": "8f9dc837",
   "metadata": {},
   "outputs": [
    {
     "name": "stdout",
     "output_type": "stream",
     "text": [
      "Enter a number: 7\n"
     ]
    }
   ],
   "source": [
    "mul_num=int(input(\"Enter a number: \"))"
   ]
  },
  {
   "cell_type": "code",
   "execution_count": 43,
   "id": "5ee08742",
   "metadata": {},
   "outputs": [
    {
     "name": "stdout",
     "output_type": "stream",
     "text": [
      "7  x  1 =  7\n",
      "7  x  2 =  14\n",
      "7  x  3 =  21\n",
      "7  x  4 =  28\n",
      "7  x  5 =  35\n",
      "7  x  6 =  42\n",
      "7  x  7 =  49\n",
      "7  x  8 =  56\n",
      "7  x  9 =  63\n",
      "7  x  10 =  70\n"
     ]
    }
   ],
   "source": [
    "for i in range(1,11):\n",
    "    print(mul_num,\" x \",i,\"= \",mul_num*i)"
   ]
  },
  {
   "cell_type": "markdown",
   "id": "d2950411",
   "metadata": {},
   "source": [
    "# 16. Write a program that finds the sum of all even numbers between 1 and `n`."
   ]
  },
  {
   "cell_type": "code",
   "execution_count": 44,
   "id": "2d0ba4ae",
   "metadata": {},
   "outputs": [
    {
     "name": "stdout",
     "output_type": "stream",
     "text": [
      "Enter number: 15\n"
     ]
    }
   ],
   "source": [
    "even_num=int(input(\"Enter number: \"))"
   ]
  },
  {
   "cell_type": "code",
   "execution_count": 45,
   "id": "5adf75ae",
   "metadata": {},
   "outputs": [
    {
     "name": "stdout",
     "output_type": "stream",
     "text": [
      "2 4 6 8 10 12 14 \n",
      "Sum of all even numbers:  56\n"
     ]
    }
   ],
   "source": [
    "sum=0\n",
    "for i in range(1,even_num):\n",
    "    if(i%2==0):\n",
    "        print(i,end=\" \")\n",
    "        sum=sum+i\n",
    "print(\"\\nSum of all even numbers: \",sum)"
   ]
  },
  {
   "cell_type": "markdown",
   "id": "ce7c588f",
   "metadata": {},
   "source": [
    "# 17. Write a program that reverses a given number."
   ]
  },
  {
   "cell_type": "code",
   "execution_count": 46,
   "id": "9831e3c1",
   "metadata": {},
   "outputs": [
    {
     "name": "stdout",
     "output_type": "stream",
     "text": [
      "Enter a number: 1358\n"
     ]
    }
   ],
   "source": [
    "r_num=int(input(\"Enter a number: \"))"
   ]
  },
  {
   "cell_type": "code",
   "execution_count": 47,
   "id": "ae60b06e",
   "metadata": {},
   "outputs": [
    {
     "name": "stdout",
     "output_type": "stream",
     "text": [
      "Reverse number:  8531\n"
     ]
    }
   ],
   "source": [
    "reverse_num=0\n",
    "while (r_num!=0):\n",
    "    digit=r_num%10\n",
    "    reverse_num=reverse_num*10+digit\n",
    "    r_num=r_num//10\n",
    "print(\"Reverse number: \",reverse_num)"
   ]
  },
  {
   "cell_type": "markdown",
   "id": "abf38ca9",
   "metadata": {},
   "source": [
    "# 18. Write a program that checks if a given string, is a palindrome."
   ]
  },
  {
   "cell_type": "code",
   "execution_count": 48,
   "id": "5fdd799c",
   "metadata": {},
   "outputs": [
    {
     "name": "stdout",
     "output_type": "stream",
     "text": [
      "Enter a string: Anik\n"
     ]
    }
   ],
   "source": [
    "g_string=input(\"Enter a string: \")"
   ]
  },
  {
   "cell_type": "code",
   "execution_count": 49,
   "id": "3be5bbbe",
   "metadata": {},
   "outputs": [],
   "source": [
    "str=g_string.casefold()"
   ]
  },
  {
   "cell_type": "code",
   "execution_count": 50,
   "id": "bd6fdf83",
   "metadata": {},
   "outputs": [],
   "source": [
    "rev=reversed(str)"
   ]
  },
  {
   "cell_type": "code",
   "execution_count": 51,
   "id": "c5d477e0",
   "metadata": {},
   "outputs": [
    {
     "name": "stdout",
     "output_type": "stream",
     "text": [
      "Anik is not plaindrome.\n"
     ]
    }
   ],
   "source": [
    "if (list(str))==(list(rev)):\n",
    "    print(g_string+\" is plaindrome.\")\n",
    "else:\n",
    "    print(g_string+\" is not plaindrome.\")"
   ]
  },
  {
   "cell_type": "markdown",
   "id": "e3b26479",
   "metadata": {},
   "source": [
    "# 19. Write a program that generates a random number and allows the user to guess it."
   ]
  },
  {
   "cell_type": "code",
   "execution_count": 52,
   "id": "d65ddccf",
   "metadata": {},
   "outputs": [
    {
     "name": "stdout",
     "output_type": "stream",
     "text": [
      "Guess a number between 1 and 10: 2\n",
      "Sorry!Please try again!\n",
      "Guess a number between 1 and 10: 5\n",
      "Sorry!Please try again!\n",
      "Guess a number between 1 and 10: 6\n",
      "Sorry!Please try again!\n",
      "Guess a number between 1 and 10: 7\n",
      "Sorry!Please try again!\n",
      "Guess a number between 1 and 10: 9\n",
      "Sorry!Please try again!\n",
      "Guess a number between 1 and 10: 8\n",
      "Congratulations! You won!\n"
     ]
    }
   ],
   "source": [
    "import random\n",
    "    \n",
    "number = random.randint(1, 10)\n",
    "guess = None\n",
    "    \n",
    "while guess != number:\n",
    "    guess = input(\"Guess a number between 1 and 10: \")\n",
    "    guess = int(guess)\n",
    "    \n",
    "    if guess == number:\n",
    "        print(\"Congratulations! You won!\")\n",
    "        break\n",
    "    else:\n",
    "        print(\"Sorry!Please try again!\")\n"
   ]
  },
  {
   "cell_type": "markdown",
   "id": "a78d1b86",
   "metadata": {},
   "source": [
    "# 20. Write a program that finds the greatest common divisor (GCD) of two numbers."
   ]
  },
  {
   "cell_type": "code",
   "execution_count": 1,
   "id": "ec7e7cca",
   "metadata": {},
   "outputs": [
    {
     "name": "stdout",
     "output_type": "stream",
     "text": [
      "Enter num1: 14\n",
      "Enter num2: 8\n"
     ]
    }
   ],
   "source": [
    "num1=int(input(\"Enter num1: \"))\n",
    "num2=int(input(\"Enter num2: \"))"
   ]
  },
  {
   "cell_type": "code",
   "execution_count": 2,
   "id": "0facdc6a",
   "metadata": {},
   "outputs": [
    {
     "name": "stdout",
     "output_type": "stream",
     "text": [
      "GCD:  2\n"
     ]
    }
   ],
   "source": [
    "while(num2>0):\n",
    "    remainder=num1%num2\n",
    "    num1=num2\n",
    "    num2=remainder\n",
    "GCD=num1\n",
    "print(\"GCD: \",GCD)"
   ]
  },
  {
   "cell_type": "code",
   "execution_count": null,
   "id": "f0b6c524",
   "metadata": {},
   "outputs": [],
   "source": []
  }
 ],
 "metadata": {
  "kernelspec": {
   "display_name": "Python 3 (ipykernel)",
   "language": "python",
   "name": "python3"
  },
  "language_info": {
   "codemirror_mode": {
    "name": "ipython",
    "version": 3
   },
   "file_extension": ".py",
   "mimetype": "text/x-python",
   "name": "python",
   "nbconvert_exporter": "python",
   "pygments_lexer": "ipython3",
   "version": "3.9.13"
  }
 },
 "nbformat": 4,
 "nbformat_minor": 5
}
